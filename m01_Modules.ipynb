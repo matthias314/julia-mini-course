{
 "cells": [
  {
   "cell_type": "markdown",
   "id": "2081cd4a",
   "metadata": {},
   "source": [
    "# Modules and Packages\n",
    "\n",
    "Modules allow to bundle related types and functions together. They are conveniently stored inpackages together with associated data like other required packages and their versions."
   ]
  },
  {
   "cell_type": "markdown",
   "id": "bd34841e",
   "metadata": {},
   "source": [
    "Modules are defined using the `module` statement."
   ]
  },
  {
   "cell_type": "code",
   "execution_count": null,
   "id": "81b9cb9f",
   "metadata": {},
   "outputs": [],
   "source": [
    "\"\"\"\n",
    "    @__MODULE__\n",
    "\n",
    "This module collects several useful functions to deal with vectors.\n",
    "\"\"\"\n",
    "module MyModule\n",
    "\n",
    "export MyVector, mysum\n",
    "\n",
    "const T = Int8\n",
    "\n",
    "\"\"\"\n",
    "    const MyVector = Vector{$T}\n",
    "\n",
    "This is the vector type used by $(@__MODULE__).\n",
    "\"\"\"\n",
    "const MyVector = Vector{T}\n",
    "\n",
    "\"\"\"\n",
    "    mysum(v::MyVector) -> $T\n",
    "\n",
    "Returns the sum of the elements in `v`. There is no check for overflow!\n",
    "\n",
    "# Examples\n",
    "```julia\n",
    "julia> v = MyVector([1, 2, 3]); mysum(v)\n",
    "6\n",
    "julia> v = MyVector(1:20); mysum(v)\n",
    "-46\n",
    "```\n",
    "\"\"\"\n",
    "function mysum(v::MyVector)\n",
    "    s = zero(T)\n",
    "    for x in v\n",
    "        s += x\n",
    "    end\n",
    "    return s\n",
    "end\n",
    "\n",
    "end # module"
   ]
  },
  {
   "cell_type": "markdown",
   "id": "adec2459",
   "metadata": {},
   "source": [
    "The identifiers listed after `export` become available when `using` the module. For modules defined as above (not in packages), one needs a leading `.`."
   ]
  },
  {
   "cell_type": "code",
   "execution_count": null,
   "id": "867b13a8",
   "metadata": {},
   "outputs": [],
   "source": [
    "using .MyModule"
   ]
  },
  {
   "cell_type": "code",
   "execution_count": null,
   "id": "64b724c0",
   "metadata": {},
   "outputs": [],
   "source": [
    "v = MyVector([1,2,3])"
   ]
  },
  {
   "cell_type": "code",
   "execution_count": null,
   "id": "98c1da78",
   "metadata": {},
   "outputs": [],
   "source": [
    "mysum(v)"
   ]
  },
  {
   "cell_type": "code",
   "execution_count": null,
   "id": "f2c18a95",
   "metadata": {},
   "outputs": [],
   "source": [
    "v = MyVector(1:20)\n",
    "mysum(v)"
   ]
  },
  {
   "cell_type": "code",
   "execution_count": null,
   "id": "5d810218",
   "metadata": {},
   "outputs": [],
   "source": [
    "?mysum"
   ]
  },
  {
   "cell_type": "markdown",
   "id": "8a11429c",
   "metadata": {},
   "source": [
    "Non-exported names are available in the long form:"
   ]
  },
  {
   "cell_type": "code",
   "execution_count": null,
   "id": "e4184d2c",
   "metadata": {},
   "outputs": [],
   "source": [
    "T"
   ]
  },
  {
   "cell_type": "code",
   "execution_count": null,
   "id": "f5e3d25f",
   "metadata": {},
   "outputs": [],
   "source": [
    "MyModule.T"
   ]
  },
  {
   "cell_type": "markdown",
   "id": "3f1e3b4c",
   "metadata": {},
   "source": [
    "The identifiers in a module live in a separate \"namespace\" (unless they are made available via `using` or `import`):"
   ]
  },
  {
   "cell_type": "code",
   "execution_count": null,
   "id": "f99fd1ca",
   "metadata": {},
   "outputs": [],
   "source": [
    "T = 3\n",
    "T, MyModule.T"
   ]
  },
  {
   "cell_type": "markdown",
   "id": "c52d5b27",
   "metadata": {},
   "source": [
    "Except for toy example, you want to keep modules in text files (ending in \".jl\"). For Julia to find them, they must be stored in a directory that appears in `LOAD_PATH` (or `JULIA_LOAD_PATH` on the operating system command line)."
   ]
  },
  {
   "cell_type": "code",
   "execution_count": null,
   "id": "9a74e249",
   "metadata": {},
   "outputs": [],
   "source": [
    "pushfirst!(LOAD_PATH, ENV[\"HOME\"] * \"/Julia/julia-mini-course/TestModule/src\")"
   ]
  },
  {
   "cell_type": "code",
   "execution_count": null,
   "id": "8115ecc8",
   "metadata": {},
   "outputs": [],
   "source": [
    "using TestModule"
   ]
  },
  {
   "cell_type": "code",
   "execution_count": null,
   "id": "45509280",
   "metadata": {},
   "outputs": [],
   "source": [
    "v = Vec(2:5)"
   ]
  },
  {
   "cell_type": "code",
   "execution_count": null,
   "id": "c82d73e9",
   "metadata": {},
   "outputs": [],
   "source": []
  }
 ],
 "metadata": {
  "kernelspec": {
   "display_name": "Julia 1.11.2",
   "language": "julia",
   "name": "julia-1.11"
  },
  "language_info": {
   "file_extension": ".jl",
   "mimetype": "application/julia",
   "name": "julia",
   "version": "1.11.2"
  }
 },
 "nbformat": 4,
 "nbformat_minor": 5
}
