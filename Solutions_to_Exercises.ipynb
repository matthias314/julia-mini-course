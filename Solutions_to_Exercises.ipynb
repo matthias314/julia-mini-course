{
 "cells": [
  {
   "cell_type": "markdown",
   "metadata": {},
   "source": [
    "# [01_Variables_Control_Packages](01_Variables_Control_Packages.ipynb)\n",
    "\n",
    "Compute $2^{100}$:\n",
    "- As fast as possible\n",
    "- As exact as possible"
   ]
  },
  {
   "cell_type": "code",
   "execution_count": null,
   "metadata": {},
   "outputs": [],
   "source": [
    "# This will give the wrong result:\n",
    "2^100"
   ]
  },
  {
   "cell_type": "code",
   "execution_count": null,
   "metadata": {},
   "outputs": [],
   "source": [
    "# An exact way to compute the answer is using arbitrary-precision integers\n",
    "BigInt(2)^100"
   ]
  },
  {
   "cell_type": "code",
   "execution_count": null,
   "metadata": {},
   "outputs": [],
   "source": [
    "# Usually faster than arbitrary-precision computations are\n",
    "# floating point operations (might not be true for this simple case, however)\n",
    "2.0^100"
   ]
  },
  {
   "cell_type": "markdown",
   "metadata": {},
   "source": [
    "### Exercise\n",
    "Compute\n",
    "$$ 15! \\qquad 100! \\qquad \\left(\\begin{array}{c} 100 \\\\ 15 \\end{array}\\right) $$\n",
    "with the Julia you know so far."
   ]
  },
  {
   "cell_type": "code",
   "execution_count": null,
   "metadata": {},
   "outputs": [],
   "source": [
    "res15 = 1\n",
    "for i in 1:15\n",
    "    res15 = res15 * i\n",
    "end\n",
    "\n",
    "res100 = BigInt(1)\n",
    "for i in 1:100\n",
    "    res100 = res100 * i\n",
    "end\n",
    "\n",
    "res85 = BigInt(1)\n",
    "for i in 1:(100 - 15)\n",
    "    res85 = res85 * i\n",
    "end\n",
    "\n",
    "res100 / res85 / res15"
   ]
  },
  {
   "cell_type": "markdown",
   "metadata": {},
   "source": [
    "# [02_Functions_Types_Dispatch](02_Functions_Types_Dispatch.ipynb)\n",
    "\n",
    "### Exercise\n",
    "Which of the following type are subtypes of another?\n",
    "Try to guess first and then verify by using the operator `<:`.\n",
    "\n",
    "```julia\n",
    "Float64     AbstractFloat      Integer\n",
    "Number      AbstractArray      Complex\n",
    "Real        Any                Nothing\n",
    "```"
   ]
  },
  {
   "cell_type": "markdown",
   "metadata": {},
   "source": [
    "The following type chains (subtype ``<:`` supertype) are true:"
   ]
  },
  {
   "cell_type": "code",
   "execution_count": null,
   "metadata": {},
   "outputs": [],
   "source": [
    "Float64 <: AbstractFloat <: Real <: Number <: Any"
   ]
  },
  {
   "cell_type": "code",
   "execution_count": null,
   "metadata": {},
   "outputs": [],
   "source": [
    "Integer <: Real <: Number <: Any"
   ]
  },
  {
   "cell_type": "code",
   "execution_count": null,
   "metadata": {},
   "outputs": [],
   "source": [
    "Complex <: Number <: Any"
   ]
  },
  {
   "cell_type": "code",
   "execution_count": null,
   "metadata": {},
   "outputs": [],
   "source": [
    "Nothing <: Any"
   ]
  },
  {
   "cell_type": "code",
   "execution_count": null,
   "metadata": {},
   "outputs": [],
   "source": [
    "AbstractArray <: Any"
   ]
  },
  {
   "cell_type": "markdown",
   "metadata": {},
   "source": [
    "An elegant way to find this information is:"
   ]
  },
  {
   "cell_type": "code",
   "execution_count": null,
   "metadata": {},
   "outputs": [],
   "source": [
    "types = (\n",
    "    Float64,     AbstractFloat,      Integer,\n",
    "    Number,      AbstractArray,      Complex,\n",
    "    Real,        Any,                Nothing,\n",
    ")\n",
    "\n",
    "using Printf\n",
    "for u in types, v in types\n",
    "    @printf \"%15s <: %15s = %s\" \"$u\" \"$v\" \"$(u <: v)\\n\"\n",
    "end"
   ]
  },
  {
   "cell_type": "markdown",
   "metadata": {},
   "source": [
    "# [03_Arrays_Parametric_Types](03_Arrays_Parametric_Types.ipynb)\n",
    "\n",
    "### Exercise\n",
    "Create the following arrays using Julia code:\n",
    "$$\\left(\\begin{array}{ccccc}\n",
    "   2&2&2&2&2 \\\\\n",
    "   2&2&2&2&2 \\\\\n",
    "   2&2&2&2&2 \\\\\n",
    "   \\end{array}\\right) \\qquad\n",
    "   \\left(\\begin{array}{cccc}\n",
    "   0.1&0.5&0.9&1.3\\\\\n",
    "   0.2&0.6&1.0&1.4\\\\\n",
    "   0.3&0.7&1.1&1.5\\\\\n",
    "   0.4&0.8&1.2&1.6\\\\\n",
    "   \\end{array}\\right)\n",
    "   $$"
   ]
  },
  {
   "cell_type": "code",
   "execution_count": null,
   "metadata": {},
   "outputs": [],
   "source": [
    "ones(Int, 3, 5) + ones(Int, 3, 5)\n",
    "\n",
    "# or \n",
    "\n",
    "2ones(Int, 3, 5)"
   ]
  },
  {
   "cell_type": "code",
   "execution_count": null,
   "metadata": {},
   "outputs": [],
   "source": [
    "reshape(1:16, 4, 4) / 10"
   ]
  },
  {
   "cell_type": "code",
   "execution_count": null,
   "metadata": {},
   "outputs": [],
   "source": [
    "reshape(0.1:0.1:1.6, 4, 4)"
   ]
  }
 ],
 "metadata": {
  "kernelspec": {
   "display_name": "Julia 1.7.2",
   "language": "julia",
   "name": "julia-1.7"
  },
  "language_info": {
   "file_extension": ".jl",
   "mimetype": "application/julia",
   "name": "julia",
   "version": "1.7.2"
  }
 },
 "nbformat": 4,
 "nbformat_minor": 2
}
