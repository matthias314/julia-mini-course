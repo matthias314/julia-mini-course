{
 "cells": [
  {
   "cell_type": "markdown",
   "metadata": {},
   "source": [
    "# Performance engineering and optimisation\n"
   ]
  },
  {
   "cell_type": "markdown",
   "metadata": {},
   "source": [
    "In this project we will first review a few standard pitfalls for performance in Julia and then get our hands dirty in optimising a few pieces of code ourselves.\n",
    "\n",
    "For more details on the issues mentioned here, see the [performance tips](https://docs.julialang.org/en/v1/manual/performance-tips/) and this [blog article](https://www.stochasticlifestyle.com/7-julia-gotchas-handle/) by Chris Rackauckas."
   ]
  },
  {
   "cell_type": "markdown",
   "metadata": {},
   "source": [
    "## Pitfall 1: Global scope"
   ]
  },
  {
   "cell_type": "code",
   "execution_count": null,
   "metadata": {},
   "outputs": [],
   "source": [
    "a = 2.0\n",
    "b = 3.0\n",
    "function linear_combination()\n",
    "  return 2a + b\n",
    "end\n",
    "answer = linear_combination()\n",
    "\n",
    "@show answer;\n",
    "\n",
    "@code_warntype linear_combination()"
   ]
  },
  {
   "cell_type": "markdown",
   "metadata": {},
   "source": [
    "Even though all types are known, the compiler does not make use of them. The reason is that in global scope (such as a Jupyter notebook or the REPL) there are no guarantees that `a` and `b` are of a certain type as any later reassignment might change this."
   ]
  },
  {
   "cell_type": "code",
   "execution_count": null,
   "metadata": {
    "scrolled": true
   },
   "outputs": [],
   "source": [
    "using Traceur\n",
    "@trace linear_combination()"
   ]
  },
  {
   "cell_type": "markdown",
   "metadata": {},
   "source": [
    "### Solution 1a: Wrap code in functions\n",
    "\n",
    "Sounds simple, but this is often a very good to (not only this) performance problem."
   ]
  },
  {
   "cell_type": "code",
   "execution_count": null,
   "metadata": {},
   "outputs": [],
   "source": [
    "function outer()\n",
    "    a = 2.0\n",
    "    b = 3.0\n",
    "    function linear_combination()\n",
    "      return 2a + b\n",
    "    end\n",
    "    linear_combination() \n",
    "end\n",
    "answer = outer()\n",
    "@show answer;\n",
    "\n",
    "@code_warntype outer()"
   ]
  },
  {
   "cell_type": "markdown",
   "metadata": {},
   "source": [
    "Notice that **constant propagation** is even possible in this case (i.e. Julia will do the computation at compile time):"
   ]
  },
  {
   "cell_type": "code",
   "execution_count": null,
   "metadata": {},
   "outputs": [],
   "source": [
    "@code_llvm outer()"
   ]
  },
  {
   "cell_type": "markdown",
   "metadata": {},
   "source": [
    "All the code has been contracted to a single statement in the LLVM bytecode: At runtime this function will just return the result."
   ]
  },
  {
   "cell_type": "markdown",
   "metadata": {},
   "source": [
    "## Pitfall 2: Type-instabilities"
   ]
  },
  {
   "cell_type": "markdown",
   "metadata": {},
   "source": [
    "The following function looks innocent ..."
   ]
  },
  {
   "cell_type": "code",
   "execution_count": null,
   "metadata": {},
   "outputs": [],
   "source": [
    "function g()\n",
    "    x = 1\n",
    "    for i = 1:10\n",
    "        x = x / 2\n",
    "    end\n",
    "    x\n",
    "end"
   ]
  },
  {
   "cell_type": "markdown",
   "metadata": {},
   "source": [
    "... but is not:"
   ]
  },
  {
   "cell_type": "code",
   "execution_count": null,
   "metadata": {},
   "outputs": [],
   "source": [
    "@code_warntype debuginfo=:none g()"
   ]
  },
  {
   "cell_type": "markdown",
   "metadata": {},
   "source": [
    "The issue is that the type of the accumulator `x` changes *during the iterations*!"
   ]
  },
  {
   "cell_type": "markdown",
   "metadata": {},
   "source": [
    "### Solution 2a: Avoid type change"
   ]
  },
  {
   "cell_type": "code",
   "execution_count": null,
   "metadata": {},
   "outputs": [],
   "source": [
    "function h()\n",
    "    x = 1.0\n",
    "    for i = 1:10\n",
    "        x = x / 2\n",
    "    end\n",
    "    x\n",
    "end"
   ]
  },
  {
   "cell_type": "code",
   "execution_count": null,
   "metadata": {},
   "outputs": [],
   "source": [
    "@code_warntype debuginfo=:none h()"
   ]
  },
  {
   "cell_type": "code",
   "execution_count": null,
   "metadata": {},
   "outputs": [],
   "source": [
    "@code_llvm debuginfo=:none h()"
   ]
  },
  {
   "cell_type": "markdown",
   "metadata": {},
   "source": [
    "(Side note: Things are actually not *too* bad in this case, as `Float64` and `Int64` have the same bit width, so Julia con do a cool thing called *union splitting*, see https://julialang.org/blog/2018/08/union-splitting)"
   ]
  },
  {
   "cell_type": "markdown",
   "metadata": {},
   "source": [
    "### Solution 2b: Specify types explicitly\n",
    "\n",
    "... the Fortran / C way ;)"
   ]
  },
  {
   "cell_type": "code",
   "execution_count": null,
   "metadata": {},
   "outputs": [],
   "source": [
    "function g2()\n",
    "    x::Float64 = 1  # Enforces conversion to Float64\n",
    "    for i = 1:10\n",
    "        x = x / 2\n",
    "    end\n",
    "    x\n",
    "end"
   ]
  },
  {
   "cell_type": "code",
   "execution_count": null,
   "metadata": {},
   "outputs": [],
   "source": [
    "@code_llvm debuginfo=:none g2()"
   ]
  },
  {
   "cell_type": "markdown",
   "metadata": {},
   "source": [
    "### Solution 2c: Function barriers"
   ]
  },
  {
   "cell_type": "code",
   "execution_count": null,
   "metadata": {},
   "outputs": [],
   "source": [
    "data = Union{Int64,Float64,String}[4, 2.0, \"test\", 3.2, 1]"
   ]
  },
  {
   "cell_type": "code",
   "execution_count": null,
   "metadata": {},
   "outputs": [],
   "source": [
    "function calc_square(x)\n",
    "  for i in eachindex(x)\n",
    "    val = x[i]\n",
    "    val^2\n",
    "  end\n",
    "end"
   ]
  },
  {
   "cell_type": "code",
   "execution_count": null,
   "metadata": {},
   "outputs": [],
   "source": [
    "@code_warntype calc_square(data)"
   ]
  },
  {
   "cell_type": "code",
   "execution_count": null,
   "metadata": {},
   "outputs": [],
   "source": [
    "function calc_square_outer(x)\n",
    "  for i in eachindex(x)\n",
    "    calc_square_inner(x[i])\n",
    "  end\n",
    "end\n",
    "\n",
    "calc_square_inner(x) = x^2"
   ]
  },
  {
   "cell_type": "code",
   "execution_count": null,
   "metadata": {},
   "outputs": [],
   "source": [
    "@code_warntype calc_square_inner(data[1])"
   ]
  },
  {
   "cell_type": "markdown",
   "metadata": {},
   "source": [
    "# Pitfall 3: Views and copies\n",
    "\n",
    "By default slicing into a matrix, actually returns a copy and not a view."
   ]
  },
  {
   "cell_type": "code",
   "execution_count": null,
   "metadata": {},
   "outputs": [],
   "source": [
    "using BenchmarkTools, LinearAlgebra\n",
    "\n",
    "M = rand(3,3);\n",
    "x = rand(3);"
   ]
  },
  {
   "cell_type": "code",
   "execution_count": null,
   "metadata": {},
   "outputs": [],
   "source": [
    "f(x, M) = dot(M[1:3, 1], x)       # Implicit copy\n",
    "@btime f($x, $M);                 # ($ syntax in BenchmarkTools to avoid global scope\n",
    "                                  #  ... otherwise numbers could be less meaningful.)"
   ]
  },
  {
   "cell_type": "code",
   "execution_count": null,
   "metadata": {},
   "outputs": [],
   "source": [
    "g(x,M) = dot(view(M, 1:3, 1), x)  # Avoids the copy\n",
    "@btime g($x, $M);"
   ]
  },
  {
   "cell_type": "code",
   "execution_count": null,
   "metadata": {},
   "outputs": [],
   "source": [
    "g(x,M) = @views dot(M[1:3,1], x)  # More convenient\n",
    "@btime g($x, $M);"
   ]
  },
  {
   "cell_type": "markdown",
   "metadata": {},
   "source": [
    "# Pitfall 4: Temporary allocations and vectorised code"
   ]
  },
  {
   "cell_type": "code",
   "execution_count": null,
   "metadata": {},
   "outputs": [],
   "source": [
    "using BenchmarkTools\n",
    "\n",
    "function f()\n",
    "    x = [1; 5; 6]  # Column-vector\n",
    "    for i in 1:100_000\n",
    "       x = x + 2*x\n",
    "    end\n",
    "    x\n",
    "end\n",
    "\n",
    "@btime f();"
   ]
  },
  {
   "cell_type": "markdown",
   "metadata": {},
   "source": [
    "### Solution 4a: Use dot syntax!\n",
    "\n",
    "The vectorisation syntax (`.`) we already talked about is a semantic syntax to enforce loop fusion (see blog post by Steven G. Johnson: https://julialang.org/blog/2017/01/moredots), which avoids temporaries and thus speeds up computations."
   ]
  },
  {
   "cell_type": "code",
   "execution_count": null,
   "metadata": {},
   "outputs": [],
   "source": [
    "function f1()\n",
    "    x = [1; 5; 6]\n",
    "    for i in 1:100_000\n",
    "        x .= x .+ 2 .* x\n",
    "        # @. x = x + 2*x   # equivalent\n",
    "    end\n",
    "    x\n",
    "end\n",
    "@btime f1();"
   ]
  },
  {
   "cell_type": "markdown",
   "metadata": {},
   "source": [
    "Notice the 10-fold speedup!\n",
    "\n",
    "Even faster is only writing the loop-fusion explicitly (and using `@inbounds`."
   ]
  },
  {
   "cell_type": "code",
   "execution_count": null,
   "metadata": {},
   "outputs": [],
   "source": [
    "function f()\n",
    "    x = [1; 5; 6]\n",
    "    @inbounds for i in 1:100_000    \n",
    "        for k in 1:3\n",
    "            x[k] = x[k] + 2*x[k]\n",
    "        end\n",
    "    end\n",
    "    return x\n",
    "end\n",
    "@btime f();"
   ]
  },
  {
   "cell_type": "markdown",
   "metadata": {},
   "source": [
    "# Pitfall 5: Abstract fields\n",
    "\n",
    "(See also the project on [custom types](01_Types_Specialisation.ipynb))."
   ]
  },
  {
   "cell_type": "code",
   "execution_count": null,
   "metadata": {},
   "outputs": [],
   "source": [
    "using BenchmarkTools"
   ]
  },
  {
   "cell_type": "code",
   "execution_count": null,
   "metadata": {},
   "outputs": [],
   "source": [
    "struct MyType\n",
    "    x::AbstractFloat\n",
    "    y::AbstractString\n",
    "end\n",
    "\n",
    "f(a::MyType) = a.x^2 + sqrt(a.x)"
   ]
  },
  {
   "cell_type": "code",
   "execution_count": null,
   "metadata": {},
   "outputs": [],
   "source": [
    "a = MyType(3.0, \"test\")\n",
    "\n",
    "@btime f($a);"
   ]
  },
  {
   "cell_type": "markdown",
   "metadata": {},
   "source": [
    "### Solution 5a: Use concrte types in structs"
   ]
  },
  {
   "cell_type": "code",
   "execution_count": null,
   "metadata": {},
   "outputs": [],
   "source": [
    "struct MyTypeConcrete\n",
    "    x::Float64\n",
    "    y::String\n",
    "end\n",
    "\n",
    "f(b::MyTypeConcrete) = b.x^2 + sqrt(b.x)"
   ]
  },
  {
   "cell_type": "code",
   "execution_count": null,
   "metadata": {},
   "outputs": [],
   "source": [
    "b = MyTypeConcrete(3.0, \"test\")\n",
    "\n",
    "@btime f($b);"
   ]
  },
  {
   "cell_type": "markdown",
   "metadata": {},
   "source": [
    "Note that the latter implementation is **more than 30x faster**!"
   ]
  },
  {
   "cell_type": "markdown",
   "metadata": {},
   "source": [
    "### Solution 5b: If generic content is needed\n",
    "\n",
    "Use [parametric types](01_Types_Specialisation.ipynb)."
   ]
  },
  {
   "cell_type": "code",
   "execution_count": null,
   "metadata": {},
   "outputs": [],
   "source": [
    "struct MyTypeParametric{A<:AbstractFloat, B<:AbstractString}\n",
    "    x::A\n",
    "    y::B\n",
    "end\n",
    "\n",
    "f(c::MyTypeParametric) = c.x^2 + sqrt(c.x)"
   ]
  },
  {
   "cell_type": "code",
   "execution_count": null,
   "metadata": {},
   "outputs": [],
   "source": [
    "c = MyTypeParametric(3.0, \"test\")"
   ]
  },
  {
   "cell_type": "markdown",
   "metadata": {},
   "source": [
    "While this makes the code a little less readable (field types and stack traces are now less meaningful),\n",
    "the compiler is able to produce optimal code, since the types of `x` and `y` are encoded in the type of the struct:"
   ]
  },
  {
   "cell_type": "code",
   "execution_count": null,
   "metadata": {},
   "outputs": [],
   "source": [
    "@btime f($c);"
   ]
  },
  {
   "cell_type": "code",
   "execution_count": null,
   "metadata": {},
   "outputs": [],
   "source": [
    "c = MyTypeParametric(Float32(3.0), SubString(\"test\"))"
   ]
  },
  {
   "cell_type": "code",
   "execution_count": null,
   "metadata": {},
   "outputs": [],
   "source": [
    "@btime f($c);"
   ]
  },
  {
   "cell_type": "markdown",
   "metadata": {},
   "source": [
    "# Pitfall 6: Column major order\n",
    "\n",
    "Unlike C or numpy (but like MATLAB and FORTRAN), Julia uses column-major ordering in matrices:"
   ]
  },
  {
   "cell_type": "code",
   "execution_count": null,
   "metadata": {},
   "outputs": [],
   "source": [
    "M = reshape(1:9, 3, 3)"
   ]
  },
  {
   "cell_type": "code",
   "execution_count": null,
   "metadata": {},
   "outputs": [],
   "source": [
    "@show M[1, 2] M[2, 2] M[3, 2]"
   ]
  },
  {
   "cell_type": "markdown",
   "metadata": {},
   "source": [
    "i.e. **earlier indices run faster**!"
   ]
  },
  {
   "cell_type": "markdown",
   "metadata": {},
   "source": [
    "Neglecting this leads to a performance penalty:"
   ]
  },
  {
   "cell_type": "code",
   "execution_count": null,
   "metadata": {},
   "outputs": [],
   "source": [
    "M = rand(1000,1000);\n",
    "\n",
    "function fcol(M)\n",
    "    for col in 1:size(M, 2)\n",
    "        for row in 1:size(M, 1)\n",
    "            M[row, col] = 42\n",
    "        end\n",
    "    end\n",
    "    nothing\n",
    "end\n",
    "\n",
    "function frow(M)\n",
    "    for row in 1:size(M, 1)\n",
    "        for col in 1:size(M, 2)\n",
    "            M[row, col] = 42\n",
    "        end\n",
    "    end\n",
    "    nothing\n",
    "end"
   ]
  },
  {
   "cell_type": "code",
   "execution_count": null,
   "metadata": {},
   "outputs": [],
   "source": [
    "@btime fcol($M)"
   ]
  },
  {
   "cell_type": "code",
   "execution_count": null,
   "metadata": {},
   "outputs": [],
   "source": [
    "@btime frow($M)"
   ]
  },
  {
   "cell_type": "markdown",
   "metadata": {},
   "source": [
    "## Performance takeaways\n",
    "\n",
    "* Gotcha 1: **Wrap code in self-contained functions** in performance critical applications, i.e. avoid global scope.\n",
    "* Gotcha 2: Write **type-stable code** (check with `@code_warntype`).\n",
    "* Gotcha 3: Use **views** instead of copies to avoid unnecessary allocations.\n",
    "* Gotcha 4: Use **broadcasting (more dots)** to avoid temporary allocations in vectorized code (or write out loops).\n",
    "* Gotcha 5: **Types should always have concrete fields.** If you don't know them in advance, use type parameters.\n",
    "* Gotcha 6: Be aware of **column major order** when looping over arrays.\n",
    "\n",
    "\n",
    "##### More details\n",
    "-  Check out [this MIT lecture](https://mitmath.github.io/18337/lecture2/optimizing)."
   ]
  },
  {
   "cell_type": "markdown",
   "metadata": {},
   "source": [
    "## Extra performance tips\n",
    "\n",
    "Compared to python and C, Julia puts a much stronger emphasis on functional programming,\n",
    "which often allows to write concise code which *avoids allocations*. For example"
   ]
  },
  {
   "cell_type": "code",
   "execution_count": null,
   "metadata": {},
   "outputs": [],
   "source": [
    "using BenchmarkTools\n",
    "function myfun_naive(x)\n",
    "    x_mod = @. abs(2x - x)\n",
    "    minimum(x_mod)\n",
    "end\n",
    "\n",
    "x = randn(10_000)\n",
    "@btime myfun_naive($x);"
   ]
  },
  {
   "cell_type": "markdown",
   "metadata": {},
   "source": [
    "Now, `minimum` allows to take a function as first argument. This function is applied *elementwise* before doing the standard action of `minimum` (taking the minimum):"
   ]
  },
  {
   "cell_type": "code",
   "execution_count": null,
   "metadata": {},
   "outputs": [],
   "source": [
    "function myfun_fast(x)\n",
    "    minimum(xi -> abs(2xi - xi), x)\n",
    "end\n",
    "@btime myfun_fast($x);"
   ]
  },
  {
   "cell_type": "markdown",
   "metadata": {},
   "source": [
    "A convenience syntax allows to write this even nicer for more complicated expressions:"
   ]
  },
  {
   "cell_type": "code",
   "execution_count": null,
   "metadata": {},
   "outputs": [],
   "source": [
    "function myfun_fast(x)\n",
    "    minimum(x) do xi\n",
    "        abs(2xi - xi)\n",
    "    end\n",
    "end"
   ]
  },
  {
   "cell_type": "markdown",
   "metadata": {},
   "source": [
    "This is equivalent to the first definition of `myfun_fast`. Notice, how the first (function) argument of `minimum` disappeared and is replaced by a `do ... end` block, which defines the function to be used as first argument.\n",
    "\n",
    "`minimum` is by now means special here. This syntax is general and works for *all* functions, which take a function as first argument, such as `map`, `filter`, `sum`, `minimum`, `maximum` ...\n",
    "\n",
    "As usual, custom functions in julia are no different here:"
   ]
  },
  {
   "cell_type": "code",
   "execution_count": null,
   "metadata": {},
   "outputs": [],
   "source": [
    "function print_every_second(f, x)\n",
    "    for i in 1:2:length(x)\n",
    "        println(f(x[i]))\n",
    "    end\n",
    "end\n",
    "\n",
    "x = [1, 2, 3, 4, 5 , 6]\n",
    "print_every_second(x) do xi\n",
    "    2xi\n",
    "end"
   ]
  },
  {
   "cell_type": "markdown",
   "metadata": {},
   "source": [
    "## Optimisation project 1"
   ]
  },
  {
   "cell_type": "markdown",
   "metadata": {},
   "source": [
    "Optimize the following code.\n",
    "\n",
    "(The type and size of the input is fixed/may not be changed.)"
   ]
  },
  {
   "cell_type": "code",
   "execution_count": null,
   "metadata": {},
   "outputs": [],
   "source": [
    "function work!(A, N)\n",
    "    D = zeros(N, N)\n",
    "    for i in 1:N\n",
    "        D = b[i] * c * A\n",
    "        b[i] = sum(D)\n",
    "    end\n",
    "end\n",
    "\n",
    "N = 100\n",
    "A = rand(N,N)\n",
    "b = rand(N)\n",
    "c = 1.23\n",
    "\n",
    "work!(A,N)"
   ]
  },
  {
   "cell_type": "code",
   "execution_count": null,
   "metadata": {},
   "outputs": [],
   "source": [
    "using BenchmarkTools\n",
    "@btime work!($A, $N);"
   ]
  },
  {
   "cell_type": "markdown",
   "metadata": {},
   "source": [
    "## Optimization project 2"
   ]
  },
  {
   "cell_type": "markdown",
   "metadata": {},
   "source": [
    "Optimize the following function."
   ]
  },
  {
   "cell_type": "code",
   "execution_count": null,
   "metadata": {},
   "outputs": [],
   "source": [
    "function work!(A, B, v, N)\n",
    "    val = 0\n",
    "    for i in 1:N\n",
    "        for j in 1:N\n",
    "            val = mod(v[i], 256)\n",
    "            A[i, j] = B[i, j] * (sin(val) * sin(val) - cos(val) * cos(val))\n",
    "        end\n",
    "    end\n",
    "end"
   ]
  },
  {
   "cell_type": "markdown",
   "metadata": {},
   "source": [
    "The (fixed) input is given by:"
   ]
  },
  {
   "cell_type": "code",
   "execution_count": null,
   "metadata": {},
   "outputs": [],
   "source": [
    "N = 4000\n",
    "A = zeros(N, N)\n",
    "B = rand(N, N)\n",
    "v = rand(Int, N);\n",
    "\n",
    "work!(A, B, v, N)"
   ]
  },
  {
   "cell_type": "markdown",
   "metadata": {},
   "source": [
    "You can benchmark with the following code snippet. The larger the Mega-iterations per second the better!"
   ]
  },
  {
   "cell_type": "code",
   "execution_count": null,
   "metadata": {},
   "outputs": [],
   "source": [
    "using BenchmarkTools\n",
    "runtime = @belapsed work!($A, $B, $v, $N);\n",
    "perf = N * N * 1e-6 / runtime # MIt/s\n",
    "println(\"Performance: $perf MIt/s\")"
   ]
  }
 ],
 "metadata": {
  "@webio": {
   "lastCommId": null,
   "lastKernelId": null
  },
  "kernelspec": {
   "display_name": "Julia 1.7.2",
   "language": "julia",
   "name": "julia-1.7"
  },
  "language_info": {
   "file_extension": ".jl",
   "mimetype": "application/julia",
   "name": "julia",
   "version": "1.7.2"
  }
 },
 "nbformat": 4,
 "nbformat_minor": 4
}
