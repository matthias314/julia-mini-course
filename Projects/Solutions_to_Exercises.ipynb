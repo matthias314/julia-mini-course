{
 "cells": [
  {
   "cell_type": "markdown",
   "id": "cd9ae8be",
   "metadata": {},
   "source": [
    "# [01_Dancing_Particles](01_Dancing_Particles.ipynb)\n",
    "\n",
    "\n",
    "**Exercise:**\n",
    "\n",
    "A much more stable integrator than the `euler` we used so far is the verlocity Verlet:\n",
    "\n",
    "$$\\left\\{\\begin{array}{l}\n",
    "x_{n+1} = x_{n} + v_{n} \\Delta t + \\frac{F_V(x_{n})}{2} \\Delta t^2\\\\\n",
    "v_{n+1} = v_{n} + \\frac{F_V(x_{n)} + F_V(x_{n+1})}{2} \\Delta t\\\\\n",
    "\\end{array}\\right. $$\n",
    "\n",
    "- Program this algorithm, taking care that it supports multi-dimensional positions and velocities as well. In practice we would like to avoid recomputing $F_V(x)$ as much as possible, since this is usually the expensive step of the dynamics. For our purposes there is no need to keep an eye on that for now.\n",
    "- How does the previous dynamics look like in this example. Does this algorithm conserve energy (phase-space plot)?\n",
    "- Also look at the Morse potential"
   ]
  },
  {
   "cell_type": "code",
   "execution_count": null,
   "id": "c9038d69",
   "metadata": {},
   "outputs": [],
   "source": [
    "# One way to code the verlet function is:\n",
    "function verlet(F, Δt, xₙ, vₙ)\n",
    "    Fₙ = F(xₙ)\n",
    "    xₙ₊₁ = xₙ + vₙ * Δt + Fₙ/2 * Δt^2\n",
    "    vₙ₊₁ = vₙ + (Fₙ + F(xₙ₊₁)) / 2 * Δt\n",
    "    xₙ₊₁, vₙ₊₁\n",
    "end"
   ]
  },
  {
   "cell_type": "markdown",
   "id": "9fb8266c",
   "metadata": {},
   "source": [
    "### Exercise\n",
    "Program the total potential function for a matrix $\\textbf{x}$. A useful function is `norm` from the `LinearAlgebra` package."
   ]
  },
  {
   "cell_type": "code",
   "execution_count": null,
   "id": "29fdaa34",
   "metadata": {},
   "outputs": [],
   "source": [
    "# One solution:\n",
    "function Vtot(Vpair, x)\n",
    "    n_particles = size(x, 2)\n",
    "    accu = zero(eltype(x))   # Get a zero of the appropriate type\n",
    "    for i in 1:n_particles, j in i+1:n_particles\n",
    "        accu += Vpair(norm(x[:, i] .- x[:, j]))\n",
    "    end\n",
    "    accu\n",
    "end"
   ]
  },
  {
   "cell_type": "markdown",
   "id": "df56d00c",
   "metadata": {},
   "source": [
    "## Open-ended exercise\n",
    "\n",
    "#### 1. Performance improvements\n",
    "\n",
    "The most immediate performance improvements are obtained by using views and disabling the bounds checks, for example:"
   ]
  },
  {
   "cell_type": "code",
   "execution_count": null,
   "id": "ec99a8f0",
   "metadata": {},
   "outputs": [],
   "source": [
    "function Vtot(Vpair, x)\n",
    "    n_particles = size(x, 2)\n",
    "    accu = zero(eltype(x))   # Get a zero of the appropriate type\n",
    "    @views @inbounds begin\n",
    "        for i in 1:n_particles, j in i+1:n_particles\n",
    "            accu += Vpair(norm(x[:, i] .- x[:, j]))\n",
    "        end\n",
    "    end\n",
    "    accu\n",
    "end"
   ]
  },
  {
   "cell_type": "markdown",
   "id": "9dce8335",
   "metadata": {},
   "source": [
    "To go beyond that more global changes of the MD algorithm would be needed. For example one could store the positions and velocities of the particles as `SVector` (from `StaticArrays`), allowing the compiler to unroll the inner loops for computing the distances.\n",
    "\n",
    "In practice one would furthermore employ a neighbour list (i.e. a list of all atoms within a certain cutoff range) to break the double loop over particles (`O(N^2)`) into a single loop over the neighbour list."
   ]
  },
  {
   "cell_type": "markdown",
   "id": "1e296447",
   "metadata": {},
   "source": [
    "#### 2. Parallelism and speed:\n",
    "\n",
    "Again the simplest way to parallelise the loop is using `FLoops`:"
   ]
  },
  {
   "cell_type": "code",
   "execution_count": null,
   "id": "89bc3b2c",
   "metadata": {},
   "outputs": [],
   "source": [
    "using FLoops\n",
    "\n",
    "function Vtot(Vpair, x)\n",
    "    n_particles = size(x, 2)\n",
    "    accu = zero(eltype(x))   # Get a zero of the appropriate type\n",
    "    @floop for i in 1:n_particles\n",
    "        @init local_accu = zero(eltype(x))  # Initialise thread-local accumulator\n",
    "        for j in i+1:n_particles\n",
    "            # Note: Since we accumulate into thread-local storage,\n",
    "            # we don't need to use the blocking `@reduce` macro here.\n",
    "            local_accu += @inbounds @views Vpair(norm(x[:, i] .- x[:, j]))\n",
    "        end\n",
    "        @reduce accu += local_accu  # Accumulate\n",
    "    end\n",
    "    accu\n",
    "end"
   ]
  },
  {
   "cell_type": "markdown",
   "id": "b432dc44",
   "metadata": {},
   "source": [
    "Again, here also more clever improvements would be possible (e.g. better chunking of the data etc.), but the coding effort will be larger."
   ]
  },
  {
   "cell_type": "markdown",
   "id": "c0ea3e7a",
   "metadata": {},
   "source": [
    "# [02_Types_Specialisation](02_Types_Specialisation.ipynb)\n",
    "\n",
    "1. It only needs to store the length and the position of the one-bit.\n",
    "\n",
    "2. A possible definition of the type is:"
   ]
  },
  {
   "cell_type": "code",
   "execution_count": null,
   "id": "8bfeaf11",
   "metadata": {},
   "outputs": [],
   "source": [
    "struct OneHot\n",
    "    len::Int  # Length\n",
    "    ind::Int  # Index of the one-bit\n",
    "end "
   ]
  },
  {
   "cell_type": "markdown",
   "id": "352fb8ba",
   "metadata": {},
   "source": [
    "3. To support the indicated piece of code we need the following functions frome base:"
   ]
  },
  {
   "cell_type": "code",
   "execution_count": null,
   "id": "2457ffe0",
   "metadata": {},
   "outputs": [],
   "source": [
    "import Base: *, getindex, length\n",
    "\n",
    "length(v::OneHot) = v.len\n",
    "getindex(v::OneHot, i::Int) = i == v.ind\n",
    "*(A::AbstractMatrix, v::OneHot) = A[:, v.ind]"
   ]
  },
  {
   "cell_type": "markdown",
   "id": "edab8598",
   "metadata": {},
   "source": [
    "4. We benchmark the `innersum` for both indicated cases:"
   ]
  },
  {
   "cell_type": "code",
   "execution_count": null,
   "id": "86ed1abe",
   "metadata": {},
   "outputs": [],
   "source": [
    "function innersum(A, vs)\n",
    "    t = zero(eltype(A))\n",
    "    for v in vs\n",
    "        y = A * v\n",
    "        for i in 1:length(vs[1])\n",
    "            t += v[i] * y[i]\n",
    "        end\n",
    "    end\n",
    "    t\n",
    "end"
   ]
  },
  {
   "cell_type": "code",
   "execution_count": null,
   "id": "cab1a5b8",
   "metadata": {},
   "outputs": [],
   "source": [
    "using BenchmarkTools\n",
    "A = rand(3, 3)\n",
    "vs_float  = [rand(3)              for i in 1:10]\n",
    "vs_onehot = [OneHot(3, rand(1:3)) for _ in 1:10]\n",
    "\n",
    "@btime innersum($A, $vs_float);\n",
    "@btime innersum($A, $vs_onehot);"
   ]
  },
  {
   "cell_type": "markdown",
   "id": "13a47ed7",
   "metadata": {},
   "source": [
    "In my benchmarks the speedup is about a factor of 2."
   ]
  },
  {
   "cell_type": "markdown",
   "id": "ac4774d6",
   "metadata": {},
   "source": [
    "5. One way to define the `OneHotVector`:"
   ]
  },
  {
   "cell_type": "code",
   "execution_count": null,
   "id": "70905276",
   "metadata": {},
   "outputs": [],
   "source": [
    "struct OneHotVector <: AbstractVector{Bool}\n",
    "    len::Int\n",
    "    ind::Int\n",
    "end\n",
    "\n",
    "Base.getindex(v::OneHotVector, i::Integer) = i == v.ind\n",
    "Base.size(v::OneHotVector) = (v.len, )"
   ]
  },
  {
   "cell_type": "markdown",
   "id": "9eb121ff",
   "metadata": {},
   "source": [
    "6. Creating a single vector works ..."
   ]
  },
  {
   "cell_type": "code",
   "execution_count": null,
   "id": "0f999f7b",
   "metadata": {},
   "outputs": [],
   "source": [
    "OneHotVector(5, 3)"
   ]
  },
  {
   "cell_type": "markdown",
   "id": "4433a5ad",
   "metadata": {},
   "source": [
    "... and gives us a nice visualisation. Also, without any additional effort, the `innersum` just works:"
   ]
  },
  {
   "cell_type": "code",
   "execution_count": null,
   "id": "ae7f1e09",
   "metadata": {},
   "outputs": [],
   "source": [
    "A  = rand(3, 3)\n",
    "vs = [OneHotVector(3, rand(1:3)) for _ in 1:10]\n",
    "\n",
    "innersum(A, vs)"
   ]
  },
  {
   "cell_type": "markdown",
   "id": "e6b799b5",
   "metadata": {},
   "source": [
    "# [03_Performance_Engineering](03_Performance_Engineering.ipynb)"
   ]
  },
  {
   "cell_type": "markdown",
   "id": "d8e47a48",
   "metadata": {},
   "source": [
    "## Optimisation project 1"
   ]
  },
  {
   "cell_type": "code",
   "execution_count": null,
   "id": "7f1deefe",
   "metadata": {},
   "outputs": [],
   "source": [
    "using BenchmarkTools\n",
    "\n",
    "N = 100\n",
    "A = rand(N, N)\n",
    "b = rand(N)\n",
    "c = 1.23;"
   ]
  },
  {
   "cell_type": "markdown",
   "id": "6e37df68",
   "metadata": {},
   "source": [
    "#### Unoptimised code"
   ]
  },
  {
   "cell_type": "code",
   "execution_count": null,
   "id": "8b9a9595",
   "metadata": {},
   "outputs": [],
   "source": [
    "function work!(A, N)\n",
    "    D = zeros(N, N)\n",
    "    for i in 1:N\n",
    "        D = b[i] * c * A\n",
    "        b[i] = sum(D)\n",
    "    end\n",
    "end\n",
    "\n",
    "@btime work!($A, $N);"
   ]
  },
  {
   "cell_type": "markdown",
   "id": "f7269cb1",
   "metadata": {},
   "source": [
    "First we run `@code_warntype` to check for type instabilities:"
   ]
  },
  {
   "cell_type": "code",
   "execution_count": null,
   "id": "32e61639",
   "metadata": {},
   "outputs": [],
   "source": [
    "@code_warntype work!(A, N)"
   ]
  },
  {
   "cell_type": "markdown",
   "id": "5127ea33",
   "metadata": {},
   "source": [
    "`D` is of type `Any`, because it depends on the global variables `b` and `c`. We fix that first:"
   ]
  },
  {
   "cell_type": "markdown",
   "id": "03390ce0",
   "metadata": {},
   "source": [
    "#### Avoiding globals"
   ]
  },
  {
   "cell_type": "code",
   "execution_count": null,
   "id": "0a9744c1",
   "metadata": {},
   "outputs": [],
   "source": [
    "function work2!(A, N, b, c)\n",
    "    D = zeros(N, N)\n",
    "    for i in 1:N\n",
    "        D = b[i] * c * A\n",
    "        b[i] = sum(D)\n",
    "    end\n",
    "end\n",
    "\n",
    "@btime work2!($A, $N, $b, $c);"
   ]
  },
  {
   "cell_type": "code",
   "execution_count": null,
   "id": "56209a4f",
   "metadata": {},
   "outputs": [],
   "source": [
    "@code_warntype work2!(A, N, b, c)"
   ]
  },
  {
   "cell_type": "markdown",
   "id": "2e2ad1ac",
   "metadata": {},
   "source": [
    "#### Avoiding allocations\n",
    "\n",
    "That's fixed. Next we use vectorised operations to avoid allocations and avoid bounds checks:"
   ]
  },
  {
   "cell_type": "code",
   "execution_count": null,
   "id": "aff0ba5d",
   "metadata": {},
   "outputs": [],
   "source": [
    "function work3!(A, N, b, c)\n",
    "    D = zeros(N, N)\n",
    "    @inbounds for i in 1:N\n",
    "        @. D = b[i] * c * A\n",
    "        b[i] = sum(D)\n",
    "    end\n",
    "end\n",
    "\n",
    "@btime work3!($A, $N, $b, $c);"
   ]
  },
  {
   "cell_type": "markdown",
   "id": "ae5cff6e",
   "metadata": {},
   "source": [
    "#### Improving the algorithm\n",
    "\n",
    "The multiplication by `b[i]` and `c` can be factored out:"
   ]
  },
  {
   "cell_type": "code",
   "execution_count": null,
   "id": "0e866347",
   "metadata": {},
   "outputs": [],
   "source": [
    "function work4!(A, N, b, c)\n",
    "    b .*= c * sum(A)\n",
    "end\n",
    "\n",
    "@btime work4!($A, $N, $b, $c);"
   ]
  },
  {
   "cell_type": "markdown",
   "id": "5bcaf8e3",
   "metadata": {},
   "source": [
    "## Optimisation project 2"
   ]
  },
  {
   "cell_type": "code",
   "execution_count": null,
   "id": "6f5e8833",
   "metadata": {},
   "outputs": [],
   "source": [
    "using BenchmarkTools\n",
    "\n",
    "N = 4000\n",
    "A = zeros(N,N)\n",
    "B = rand(N,N)\n",
    "v = rand(Int, N);"
   ]
  },
  {
   "cell_type": "markdown",
   "id": "ec715357",
   "metadata": {},
   "source": [
    "#### Unoptimized code"
   ]
  },
  {
   "cell_type": "code",
   "execution_count": null,
   "id": "4fcc1feb",
   "metadata": {},
   "outputs": [],
   "source": [
    "function work!(A, B, v, N)\n",
    "    val = 0\n",
    "    for i in 1:N\n",
    "        for j in 1:N\n",
    "            val = mod(v[i], 256);\n",
    "            A[i, j] = B[i, j] * (sin(val) * sin(val) - cos(val) * cos(val));\n",
    "        end\n",
    "    end\n",
    "end\n",
    "\n",
    "runtime = @belapsed work!($A, $B, $v, $N);\n",
    "println(\"Performance: $(N^2 * 1e-6 / runtime) MIt/s\")"
   ]
  },
  {
   "cell_type": "markdown",
   "id": "aa102a38",
   "metadata": {},
   "source": [
    "#### Simplification\n",
    "\n",
    "Notice:\n",
    "$$\n",
    "    \\sin(x) \\sin(x) - \\cos(x) \\cos(x) = 1 - 2 \\cos(x) \\cos(x) = - \\cos(2x)\n",
    "$$"
   ]
  },
  {
   "cell_type": "code",
   "execution_count": null,
   "id": "027a6d07",
   "metadata": {},
   "outputs": [],
   "source": [
    "x = rand()\n",
    "sin(x)*sin(x) - cos(x)*cos(x) ≈ -cos(2x)"
   ]
  },
  {
   "cell_type": "code",
   "execution_count": null,
   "id": "0a580f84",
   "metadata": {},
   "outputs": [],
   "source": [
    "function work2!(A, B, v, N)\n",
    "    for i in 1:N\n",
    "        for j in 1:N \n",
    "            val = -cos(2mod(v[i], 256))\n",
    "            A[i, j] = B[i, j] * val\n",
    "        end\n",
    "    end\n",
    "end\n",
    "\n",
    "runtime = @belapsed work2!($A, $B, $v, $N);\n",
    "println(\"Performance: $(N^2 * 1e-6 / runtime) MIt/s\")"
   ]
  },
  {
   "cell_type": "markdown",
   "id": "6b91c2bc",
   "metadata": {},
   "source": [
    "#### Avoiding recomputation in the inner loop\n",
    "\n",
    "We move the computation of the the second factor out of the inner loop:"
   ]
  },
  {
   "cell_type": "code",
   "execution_count": null,
   "id": "9893eabd",
   "metadata": {},
   "outputs": [],
   "source": [
    "function work3!(A, B, v, N)\n",
    "    for i in 1:N\n",
    "        val = -cos(2mod(v[i], 256))\n",
    "        for j in 1:N \n",
    "            A[i, j] = B[i, j] * val\n",
    "        end\n",
    "    end\n",
    "end\n",
    "\n",
    "runtime = @belapsed work3!($A, $B, $v, $N);\n",
    "println(\"Performance: $(N^2 * 1e-6 / runtime) MIt/s\")"
   ]
  },
  {
   "cell_type": "markdown",
   "id": "a4dbdbc5",
   "metadata": {},
   "source": [
    "#### Precompute val factor"
   ]
  },
  {
   "cell_type": "code",
   "execution_count": null,
   "id": "cedc1221",
   "metadata": {},
   "outputs": [],
   "source": [
    "function work4!(A, B, v, N)\n",
    "    val = -cos.(2mod.(v, 256))\n",
    "    for i in 1:N\n",
    "        for j in 1:N \n",
    "            A[i, j] = B[i, j] * val[i]\n",
    "        end\n",
    "    end\n",
    "end\n",
    "runtime = @belapsed work4!($A, $B, $v, $N);\n",
    "println(\"Performance: $(N^2 * 1e-6 / runtime) MIt/s\")"
   ]
  },
  {
   "cell_type": "markdown",
   "id": "57a7c388",
   "metadata": {},
   "source": [
    "#### Switch loop order"
   ]
  },
  {
   "cell_type": "code",
   "execution_count": null,
   "id": "d32deda3",
   "metadata": {},
   "outputs": [],
   "source": [
    "function work5!(A, B, v, N)\n",
    "    val = -cos.(2mod.(v, 256))\n",
    "    for j in 1:N\n",
    "        for i in 1:N \n",
    "            A[i, j] = B[i, j] * val[i]\n",
    "        end\n",
    "    end\n",
    "end\n",
    "runtime = @belapsed work5!($A, $B, $v, $N);\n",
    "println(\"Performance: $(N^2 * 1e-6 / runtime) MIt/s\")"
   ]
  },
  {
   "cell_type": "markdown",
   "id": "04955f96",
   "metadata": {},
   "source": [
    "#### Inbounds"
   ]
  },
  {
   "cell_type": "code",
   "execution_count": null,
   "id": "91d4f11c",
   "metadata": {},
   "outputs": [],
   "source": [
    "function work6!(A, B, v, N)\n",
    "    val = -cos.(2mod.(v, 256))\n",
    "    @inbounds for j in 1:N\n",
    "        for i in 1:N \n",
    "            A[i, j] = B[i, j] * val[i]\n",
    "        end\n",
    "    end\n",
    "end\n",
    "runtime = @belapsed work6!($A, $B, $v, $N);\n",
    "println(\"Performance: $(N^2 * 1e-6 / runtime) MIt/s\")"
   ]
  }
 ],
 "metadata": {
  "@webio": {
   "lastCommId": null,
   "lastKernelId": null
  },
  "kernelspec": {
   "display_name": "Julia (4 threads) 1.7.2",
   "language": "julia",
   "name": "julia-(4-threads)-1.7"
  },
  "language_info": {
   "file_extension": ".jl",
   "mimetype": "application/julia",
   "name": "julia",
   "version": "1.7.2"
  }
 },
 "nbformat": 4,
 "nbformat_minor": 5
}
