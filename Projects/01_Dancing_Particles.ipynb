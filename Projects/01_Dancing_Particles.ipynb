{
 "cells": [
  {
   "cell_type": "markdown",
   "metadata": {},
   "source": [
    "# Dancing particles\n",
    "\n",
    "This project will be concerned with developing a simple code for the classical dynamics of interacting particles. Notice that there are already a number of Julia packages (such as [Molly](https://github.com/JuliaMolSim/Molly.jl) or [NBodySimulator](https://github.com/SciML/NBodySimulator.jl), which are able to do this in various contexts, so in practice one should rather resort to these packages instead of starting from scratch. Still, why not just get our hands dirty with what we know so far ;)."
   ]
  },
  {
   "cell_type": "markdown",
   "metadata": {},
   "source": [
    "## Propagating a particle in time\n",
    "\n",
    "Assume we are given a potential $V(x)$ for a single\n",
    "particle with unit mass at position $x$. We want to propagate the particle in time.\n",
    "That's integrating the famous Newton's equation of motion\n",
    "$$ -\\frac{dV}{dx} = \\frac{d^2x}{dt^2}$$\n",
    "in time. Defining the force map\n",
    "$$ F_V = -\\frac{dV}{dx}$$\n",
    "this may be written equivalently:\n",
    "$$\\left\\{\\begin{array}{l}\n",
    "\\frac{dv}{dt} = F_V \\\\\n",
    "\\frac{dx}{dt} = v\n",
    "\\end{array}\\right. $$"
   ]
  },
  {
   "cell_type": "markdown",
   "metadata": {},
   "source": [
    "At first we will just apply forward-Euler: We discrete in time using the interval\n",
    "$\\Delta t$, which leads to sequences $t^{(n)} = n \\Delta t + t^{(0)}$ and similarly $v^{(n)}$, $x^{(n)}$, etc:\n",
    "$$\\left\\{\\begin{array}{l}\n",
    "v^{(n+1)} = v^{(n)} + F_V(x^{(n)}) \\Delta t\\\\\n",
    "x^{(n+1)} = x^{(n)} + v^{(n)} \\Delta t\\\\\n",
    "\\end{array}\\right. .$$\n",
    "This is transformed to a Julia function in a single line:"
   ]
  },
  {
   "cell_type": "code",
   "execution_count": null,
   "metadata": {},
   "outputs": [],
   "source": [
    "euler(F, Δt, xn, vn) = xn + vn * Δt, vn + F(xn) * Δt"
   ]
  },
  {
   "cell_type": "markdown",
   "metadata": {},
   "source": [
    "where `F` is a function object to be passed to `euler`, for example:"
   ]
  },
  {
   "cell_type": "code",
   "execution_count": null,
   "metadata": {},
   "outputs": [],
   "source": [
    "F(x) = -x\n",
    "euler(F, 0.1, 0, 1)"
   ]
  },
  {
   "cell_type": "markdown",
   "metadata": {},
   "source": [
    "Of course we can repeat this now and get a particle moving in phase space:"
   ]
  },
  {
   "cell_type": "code",
   "execution_count": null,
   "metadata": {},
   "outputs": [],
   "source": [
    "Δt  = 0.1\n",
    "x, v = 0, 1\n",
    "for n = 1:10\n",
    "    @show x, v\n",
    "    x, v = euler(F, Δt, x, v)\n",
    "end "
   ]
  },
  {
   "cell_type": "markdown",
   "metadata": {},
   "source": [
    "## Taking derivatives without headaches\n",
    "\n",
    "First we consider the Harmonic potential. We plot the function and its derivative"
   ]
  },
  {
   "cell_type": "code",
   "execution_count": null,
   "metadata": {},
   "outputs": [],
   "source": [
    "using Plots"
   ]
  },
  {
   "cell_type": "code",
   "execution_count": null,
   "metadata": {},
   "outputs": [],
   "source": [
    "Vho(r, a=0.5)  = (r - a)^2   # Shifted harmonic oscillator\n",
    "dVho(r, a=0.5) = 2r -2a      # Derivative\n",
    "\n",
    "r = collect(-5:0.1:5)        # Create series of x-values\n",
    "p = plot(r, Vho.(r), label=\"Vho a=0.5\")\n",
    "plot!(p, r, dVho.(r), label=\"∂Vho\")\n",
    "xaxis!(p, \"relative radial distance\")"
   ]
  },
  {
   "cell_type": "markdown",
   "metadata": {},
   "source": [
    "Now, taking the derivative for the harmonic oscillator this is kind of ok, but for more complicated potentials $V$ this quickly becomes error prone and most importantly quite *boring*. The solution is **algorithmic differentiation**, where the Julia compiler is taught how to automatically trace the code and not only produce the function value, but also produce a derivative.\n",
    "\n",
    "Without going into further details here, let us use the `Zygote` package to take the derivative on `Vho` as defined above:"
   ]
  },
  {
   "cell_type": "code",
   "execution_count": null,
   "metadata": {},
   "outputs": [],
   "source": [
    "using Zygote\n",
    "\n",
    "r = collect(-5:0.1:5)\n",
    "p = plot(r, Vho.(r), label=\"Vho a=0.5\")\n",
    "xaxis!(p, \"relative radial distance\")\n",
    "plot!(p, r, Vho'.(r), label=\"∂Vho\")   # Notice the dash"
   ]
  },
  {
   "cell_type": "markdown",
   "metadata": {},
   "source": [
    "With ease we add the second derivative to the plot:"
   ]
  },
  {
   "cell_type": "code",
   "execution_count": null,
   "metadata": {},
   "outputs": [],
   "source": [
    "plot!(p, Vho'', label=\"∂∂Vho\")"
   ]
  },
  {
   "cell_type": "markdown",
   "metadata": {},
   "source": [
    "An important thing to note is that this **really generates the derivative code** instead of numerical differentiation (i.e. finite-differences):"
   ]
  },
  {
   "cell_type": "code",
   "execution_count": null,
   "metadata": {},
   "outputs": [],
   "source": [
    "@code_llvm debuginfo=:none Vho'(1.0)"
   ]
  },
  {
   "cell_type": "markdown",
   "metadata": {},
   "source": [
    "Now let us consider more complicated potentials, for example the **Morse potential**, which is a common model for a chemical bond:\n",
    "$$ V_\\text{Morse} = D (1 - \\exp(-\\alpha (r - r_0)))^2 - D$$"
   ]
  },
  {
   "cell_type": "code",
   "execution_count": null,
   "metadata": {
    "scrolled": true
   },
   "outputs": [],
   "source": [
    "Vmorse(r; r₀=0.7, α=1.3, D=10) = D*(1 - exp(-α * (r - r₀)))^2 - D"
   ]
  },
  {
   "cell_type": "code",
   "execution_count": null,
   "metadata": {},
   "outputs": [],
   "source": [
    "r = collect(0:0.1:7)\n",
    "p = plot(r, Vmorse.(r), label=\"Vmorse\", ylim=(-25, 25))\n",
    "xaxis!(p, \"Radial distance\")\n",
    "plot!(p, r, Vmorse'.(r), label=\"Vmorse'\")\n",
    "plot!(p, r, Vmorse''.(r), label=\"Vmorse''\")"
   ]
  },
  {
   "cell_type": "markdown",
   "metadata": {},
   "source": [
    "This works for higher dimensions and more complicated expressions, too, we will use this in a sec."
   ]
  },
  {
   "cell_type": "markdown",
   "metadata": {},
   "source": [
    "## Inspecting Euler dynamics in 1D\n",
    "\n",
    "Now we actually want to see things! We define a plot function to plot the potential and animate the particle over time:"
   ]
  },
  {
   "cell_type": "code",
   "execution_count": null,
   "metadata": {},
   "outputs": [],
   "source": [
    "using Printf\n",
    "\n",
    "# The arguments after the ; are so-called keyword arguments, they can be omitted\n",
    "# and then the default value after the = is used\n",
    "function plot_dynamics_line(V, Δt, n_steps; x0=0.0, v0=randn(), integrator=euler,\n",
    "                            xlim=(-5, 5), ylim=(0, 10))\n",
    "    t, x, v = 0.0, x0, v0  # Initialise state\n",
    "    \n",
    "    # Compute potential values (for plotting)\n",
    "    xrange = xlim[1]:0.1:xlim[2]\n",
    "    Vrange = V.(xrange)\n",
    "    \n",
    "    # @gif is a macro to \"record\" an animation of the dynamics,\n",
    "    # each loop iteration gives a frame\n",
    "    @gif for i in 1:n_steps\n",
    "        # Propagate dynamics (notice the derivative)\n",
    "        x, v = integrator(x -> -V'(x), Δt, x, v)\n",
    "        t += Δt\n",
    "\n",
    "        # Plot potential\n",
    "        p = plot(xrange, Vrange, label=\"Potential\", xlim=xlim, ylim=ylim)\n",
    "        \n",
    "        # Plot the particle and its velocity (as an arrow)\n",
    "        timestr = @sprintf \"%.2f\" t   # Format time as a nice string\n",
    "        scatter!(p, [x], [V(x)], label=\"Particle at t=$timestr\")\n",
    "        plot!(p, [(x, V(x)), (x + 0.5v, V(x))], arrow=1.0,\n",
    "              label=\"particle velocity / 2\")\n",
    "    end\n",
    "end"
   ]
  },
  {
   "cell_type": "code",
   "execution_count": null,
   "metadata": {},
   "outputs": [],
   "source": [
    "# Now let's actually see it ....\n",
    "plot_dynamics_line(Vho, 0.1, 200)"
   ]
  },
  {
   "cell_type": "markdown",
   "metadata": {},
   "source": [
    "Wow ... that's strange. \n",
    "Our plot points at the well-known problem that energy is not conserved for a simple forward Euler scheme.\n",
    "We can also diagnose this using a phase-space plot, where the time evolution of particle position $x$ and particle velocity $v$ is shown. This should be a closed curve if energy is conserved, so let's see ..."
   ]
  },
  {
   "cell_type": "code",
   "execution_count": null,
   "metadata": {},
   "outputs": [],
   "source": [
    "function plot_phase_space(A, Δt, n_steps; x0=0.0, v0=randn(), integrator=euler,\n",
    "                          xlim=(-7, 7), ylim=(-7, 7))\n",
    "    x, v = x0, v0\n",
    "    p = plot([x], [v], xlim=xlim, ylim=ylim, label=\"\", xaxis=\"position\", yaxis=\"velocity\")\n",
    "    @gif for N in 1:n_steps\n",
    "        x, v = integrator(A, Δt, x, v)\n",
    "        push!(p, x, v)  # Add new positions to the plot ...\n",
    "    end\n",
    "end"
   ]
  },
  {
   "cell_type": "code",
   "execution_count": null,
   "metadata": {},
   "outputs": [],
   "source": [
    "plot_phase_space(x -> -Vho'(x), 0.1, 200)"
   ]
  },
  {
   "cell_type": "markdown",
   "metadata": {},
   "source": [
    "**Exercise:**\n",
    "\n",
    "A much more stable integrator than the `euler` we used so far is the verlocity Verlet:\n",
    "\n",
    "$$\\left\\{\\begin{array}{l}\n",
    "x^{(n+1)} = x^{(n)} + v^{(n)} \\Delta t + \\frac{F_V(x^{(n)})}{2} \\Delta t^2\\\\\n",
    "v^{(n+1)} = v^{(n)} + \\frac{F_V(x^{(n))} + F_V(x^{(n+1)})}{2} \\Delta t\\\\\n",
    "\\end{array}\\right. $$\n",
    "\n",
    "- Program this algorithm, taking care that it supports multi-dimensional positions and velocities as well. In practice we would like to avoid recomputing $F_V(x)$ as much as possible, since this is usually the expensive step of the dynamics. For our purposes there is no need to keep an eye on that for now.\n",
    "- How does the previous dynamics look like in this example. Does this algorithm conserve energy (phase-space plot)?\n",
    "- Also look at the Morse potential"
   ]
  },
  {
   "cell_type": "code",
   "execution_count": null,
   "metadata": {},
   "outputs": [],
   "source": [
    "# solution\n",
    "# verlet(F, Δt, xn, vn) ="
   ]
  },
  {
   "cell_type": "code",
   "execution_count": null,
   "metadata": {},
   "outputs": [],
   "source": [
    "# Some example plots and parameters:\n",
    "# plot_dynamics_line(Vho, 0.1, 200, integrator=verlet, ylim=(0, 2.5), xlim=(-1, 3))\n",
    "# plot_phase_space(x -> -Vho'(x), 0.1, 200, integrator=verlet, xlim=(-2, 2), ylim=(-2, 2))\n",
    "# plot_dynamics_line(Vmorse, 0.03, 200, integrator=verlet, xlim=(-1, 4), ylim=(-10, 5), x0=2.0)"
   ]
  },
  {
   "cell_type": "markdown",
   "metadata": {},
   "source": [
    "# Multiple particles"
   ]
  },
  {
   "cell_type": "markdown",
   "metadata": {},
   "source": [
    "Now we want to simulate multiple identical partices in 2D. For a system of $N$ particles in 2D, we define the particle positions as the matrix\n",
    "$$ \\textbf{x} = \\left(\n",
    "    \\begin{array}{cccc}\n",
    "        x_{1x} & x_{2x} & \\cdots & x_{Nx} \\\\\n",
    "        x_{1y} & x_{2y} & \\cdots & x_{Ny}\n",
    "    \\end{array}\n",
    "   \\right) = \\left( \\vec{x}_1 \\vec{x}_2 \\cdots \\vec{x}_N \\right). $$\n",
    "with the individual particle vectors as columns.\n",
    "We assume our particles interact via the idential pair potential $V_\\text{pair}(r)$\n",
    "depending only on particle distance $r$. The total potential is therefore\n",
    "$$ V_\\text{tot}(\\textbf{x}) = \\sum_{i=1}^N \\sum_{j=i+1}^N V_\\text{pair}(\\| \\vec{x}_i - \\vec{x}_j \\|). $$"
   ]
  },
  {
   "cell_type": "markdown",
   "metadata": {},
   "source": [
    "### Exercise\n",
    "Program the total potential function for a matrix $\\textbf{x}$. A useful function is `norm` from the `LinearAlgebra` package."
   ]
  },
  {
   "cell_type": "code",
   "execution_count": null,
   "metadata": {},
   "outputs": [],
   "source": [
    "using LinearAlgebra\n",
    "\n",
    "function Vtot(Vpair, x)\n",
    "    # You're code here ...\n",
    "end"
   ]
  },
  {
   "cell_type": "markdown",
   "metadata": {},
   "source": [
    "Now we want to plot the dynamics in a plane. In the following function the acceleration is computed using automatically generated derivatives."
   ]
  },
  {
   "cell_type": "code",
   "execution_count": null,
   "metadata": {},
   "outputs": [],
   "source": [
    "function plot_dynamics_plane(Vpair, Δt, n_steps; x0=randn(2, 2), v0=zero(x0), integrator=verlet,\n",
    "                             xlim=(-3, 3), ylim=(-3, 3))\n",
    "    # Total acceleration via automatic differentiation\n",
    "    V(x) = Vtot(Vpair, x)\n",
    "    Atot(x) = -V'(x)\n",
    "    \n",
    "    t, x, v = 0, x0, v0  # Initialise state\n",
    "    @gif for i in 1:n_steps\n",
    "        # Propagate dynamics\n",
    "        x, v = integrator(Atot, Δt, x, v)\n",
    "        t += Δt\n",
    "        timestr = @sprintf \"%.2f\" t   # Format time\n",
    "        \n",
    "        # Plot the particles and their velocities\n",
    "        p = scatter(x[1, :], x[2, :], xlim=xlim, ylim=ylim, label=\"Particles at t=$timestr\")\n",
    "        label = \"Velocity / 4\"\n",
    "        for (xi, vi) in zip(eachcol(x), eachcol(v))\n",
    "            plot!(p, [Tuple(xi), Tuple(xi + 0.25vi)], arrow=1.0, colour=:red, label=label)\n",
    "            label = \"\"\n",
    "        end\n",
    "    end\n",
    "end"
   ]
  },
  {
   "cell_type": "code",
   "execution_count": null,
   "metadata": {},
   "outputs": [],
   "source": [
    "Δt = 0.07\n",
    "n_steps = 300\n",
    "x0 = [[0.; 0.] [1.; 0.] [-1.; 0.0]]\n",
    "plot_dynamics_plane(Vmorse, Δt, n_steps; x0=x0)"
   ]
  },
  {
   "cell_type": "markdown",
   "metadata": {},
   "source": [
    "## A few nice examples"
   ]
  },
  {
   "cell_type": "code",
   "execution_count": null,
   "metadata": {},
   "outputs": [],
   "source": [
    "Δt = 0.07\n",
    "n_steps = 300\n",
    "x0 = [[0.; 0.] [1.; 0.] [-1.; 0.15]]\n",
    "plot_dynamics_plane(Vmorse, Δt, n_steps; x0=x0)"
   ]
  },
  {
   "cell_type": "code",
   "execution_count": null,
   "metadata": {},
   "outputs": [],
   "source": [
    "Δt = 0.05\n",
    "n_steps = 300\n",
    "x0 = [[0.; 1.] [1.; 0.] [-1.; 0] [0; -1.2]]\n",
    "plot_dynamics_plane(Vmorse, Δt, n_steps; x0=x0, ylim=(-10, 10))"
   ]
  },
  {
   "cell_type": "code",
   "execution_count": null,
   "metadata": {},
   "outputs": [],
   "source": [
    "Δt = 0.05\n",
    "n_steps = 300\n",
    "x0 = 4randn(2, 10)\n",
    "plot_dynamics_plane(Vmorse, Δt, n_steps; x0=x0, xlim=(-10, 10), ylim=(-10, 10))"
   ]
  },
  {
   "cell_type": "markdown",
   "metadata": {},
   "source": [
    "## Open-ended exercise\n",
    "\n",
    "There are many ways one could go from here. Some suggestions (roughly ordered by difficulty):\n",
    "\n",
    "#### 1. Performance improvements\n",
    "Take a look at [03_Performance_Engineering.ipynb](03_Performance_Engineering.ipynb) and afterwards try to get your evaluation of `Vtot` as fast as possible. For example, try to reduce the timings of:"
   ]
  },
  {
   "cell_type": "code",
   "execution_count": null,
   "metadata": {},
   "outputs": [],
   "source": [
    "using BenchmarkTools\n",
    "x = randn(2, 5000)\n",
    "@btime Vtot($Vmorse, $x)"
   ]
  },
  {
   "cell_type": "markdown",
   "metadata": {},
   "source": [
    "#### 2. Parallelism and speed:\n",
    "   * The expensive step in the simulation is the double loop over particles needed to compute Vtot.\n",
    "   * Some suggestions were discussed in [../08_Multithreading_Basics.ipynb](../08_Multithreading_Basics.ipynb)\n",
    "   \n",
    "   \n",
    "   \n",
    "#### 3. GPU support:\n",
    "   * Since all operations we need are just linear algebra, just replacing standard arrays by `CuArray`s\n",
    "     should be everything what is needed (see [../07_Linear_Algebra_Profiling.ipynb](../07_Linear_Algebra_Profiling.ipynb)\n",
    "   * *Disclaimer:* I did not test this."
   ]
  }
 ],
 "metadata": {
  "@webio": {
   "lastCommId": "0ee45cb602ba4de49f9d8b52e7e3ca3d",
   "lastKernelId": "15fb271e-7c73-4f9c-be84-edddd39fe586"
  },
  "kernelspec": {
   "display_name": "Julia 1.7.2",
   "language": "julia",
   "name": "julia-1.7"
  },
  "language_info": {
   "file_extension": ".jl",
   "mimetype": "application/julia",
   "name": "julia",
   "version": "1.7.2"
  }
 },
 "nbformat": 4,
 "nbformat_minor": 2
}
