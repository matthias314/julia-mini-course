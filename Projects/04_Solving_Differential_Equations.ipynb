{
 "cells": [
  {
   "cell_type": "markdown",
   "id": "f38403f1",
   "metadata": {},
   "source": [
    "# Solving Differential Equations\n",
    "\n",
    "This notebook is less a project for you to work on, much rather a show case of multiple packages, which allow you to solve partial differential equations in Julia. Based on \"classic\" example in the respective fields I invite you to start playing by yourself. Resources for the respective packages are given."
   ]
  },
  {
   "cell_type": "markdown",
   "id": "documented-kidney",
   "metadata": {},
   "source": [
    "## Using ModelingToolkit and OrdinaryDiffEq to solve an ODE system\n",
    "\n",
    "Consider the Lorenz attractor:\n",
    "\n",
    "$$\n",
    "\\begin{align}\n",
    "    \\dot{x} &= \\sigma y - \\sigma x\\\\\n",
    "    \\dot{y} &= \\rho x - xz - y\\\\\n",
    "    \\dot{z} &= xy - \\beta z\n",
    "\\end{align}\n",
    "$$"
   ]
  },
  {
   "cell_type": "code",
   "execution_count": null,
   "id": "painful-ghana",
   "metadata": {},
   "outputs": [],
   "source": [
    "using ModelingToolkit\n",
    "using OrdinaryDiffEq\n",
    "using Plots\n",
    "\n",
    "# Define the system to be solved\n",
    "@parameters t σ ρ β\n",
    "@variables x(t) y(t) z(t)\n",
    "D = Differential(t)\n",
    "\n",
    "eqs = [D(x) ~ σ*y - σ*x,\n",
    "       D(y) ~ x*ρ - x*z - y,\n",
    "       D(z) ~ x*y - β*z]\n",
    "@named lorenz = ODESystem(eqs)\n",
    "\n",
    "# Define the inital conditions\n",
    "u0 = [x => 1.0,\n",
    "      y => 1.0,\n",
    "      z => 1.0]\n",
    "\n",
    "# Define the values of the parameters\n",
    "p  = [σ => 10.0,\n",
    "      ρ => 28.0,\n",
    "      β => 8/3]\n",
    "\n",
    "# Timespan for propagation\n",
    "tspan = (0.0, 30.0)\n",
    "\n",
    "# Solve it\n",
    "prob  = ODEProblem(lorenz, u0, tspan, p, jac=true)\n",
    "sol   = OrdinaryDiffEq.solve(prob, Tsit5())\n",
    "\n",
    "# and plot solution\n",
    "plot(sol, vars=(x,y))"
   ]
  },
  {
   "cell_type": "markdown",
   "id": "082fc157",
   "metadata": {},
   "source": [
    "##### More details\n",
    "- https://github.com/SciML/OrdinaryDiffEq.jl\n",
    "- https://github.com/SciML/DifferentialEquations.jl\n",
    "- https://github.com/SciML/ModelingToolkit.jl"
   ]
  },
  {
   "cell_type": "markdown",
   "id": "entitled-verse",
   "metadata": {},
   "source": [
    "## Solving PDEs using the finite-element method\n",
    "\n",
    "Classic example:\n",
    "\n",
    "$$\n",
    "\\begin{align}\n",
    "    - \\Delta u &= f &&\\text{in $\\Omega$} \\\\\n",
    "    u &= g &&\\text{on $\\partial \\Omega$}\n",
    "\\end{align}\n",
    "$$\n",
    "\n",
    "with $f(x) = 1.0, g(x) = 2.0$"
   ]
  },
  {
   "cell_type": "code",
   "execution_count": null,
   "id": "pressed-worth",
   "metadata": {},
   "outputs": [],
   "source": [
    "using Gridap\n",
    "\n",
    "# Create cartesian mesh of 10 regularly-spaced cells\n",
    "L = 1.0\n",
    "domain = (0.0, L, 0.0, L, 0.0, L)\n",
    "n = 10\n",
    "partition = (n, n, n)\n",
    "model = CartesianDiscreteModel(domain, partition)\n",
    "\n",
    "# Dirichlet BCs everywhere\n",
    "labels = get_face_labeling(model)\n",
    "add_tag_from_tags!(labels, \"dirichlet\", collect(1:8))\n",
    "\n",
    "# Test space built from linear Lagrangian elements\n",
    "order = 1\n",
    "reffe = ReferenceFE(lagrangian, Float64, order)\n",
    "V0    = TestFESpace(model, reffe; conformity=:H1, dirichlet_tags=\"dirichlet\")\n",
    "\n",
    "# Trial space\n",
    "g(x) = 2.0\n",
    "Ug = TrialFESpace(V0, g)\n",
    "\n",
    "# Integration\n",
    "degree = 2\n",
    "Ω  = Triangulation(model)\n",
    "dΩ = Measure(Ω, degree)\n",
    "\n",
    "# Weak form\n",
    "f(x)    = 1.0\n",
    "h(x)    = 3.0\n",
    "a(u, v) = ∫( ∇(v)⋅∇(u) )*dΩ\n",
    "b(v)    = ∫( v*f )*dΩ\n",
    "\n",
    "# Build and solve FE problem\n",
    "op = AffineFEOperator(a, b, Ug, V0)\n",
    "ls = LUSolver()\n",
    "solver = LinearFESolver(ls)\n",
    "uh = Gridap.solve(solver, op)\n",
    "\n",
    "# Write to VTK, to be able to look at the function from Paraview\n",
    "writevtk(Ω, \"results\", cellfields=[\"uh\" => uh])"
   ]
  },
  {
   "cell_type": "markdown",
   "id": "f9e8e839",
   "metadata": {},
   "source": [
    "##### More details\n",
    "- https://github.com/gridap/Gridap.jl\n",
    "- https://gridap.github.io/Gridap.jl/dev/"
   ]
  },
  {
   "cell_type": "markdown",
   "id": "facial-composition",
   "metadata": {},
   "source": [
    "## Solving PDEs using plane-wave discretisations\n",
    "\n",
    "Consider solving the Gross-Pitaevskii equation\n",
    "\n",
    "$$\n",
    "H ψ = \\left(-\\frac12 Δ + V + 2 C |ψ|^2\\right) ψ = μ ψ \\qquad \\|ψ\\|_{L^2} = 1\n",
    "$$\n",
    "\n",
    "with $C = 1$ in a periodic 1D \"box\" of length $10$ with confining potential $V(x) = (x - 5)^2$.\n",
    "\n",
    "This is a common mean-field model for Bose-Einstein condensates, where $\\psi$ is the quantum-mechanical state of condensation and $\\rho = |\\psi|^2$ is the particle density."
   ]
  },
  {
   "cell_type": "code",
   "execution_count": null,
   "id": "b6da8d49",
   "metadata": {},
   "outputs": [],
   "source": [
    "using DFTK\n",
    "using Plots\n",
    "\n",
    "# Periodic boundary condition ... 1D problem\n",
    "lattice = 10 .* [[1 0 0.];\n",
    "                 [0 0 0.];\n",
    "                 [0 0 0.]]\n",
    "\n",
    "# Setup the model to be solved\n",
    "V(x) = (x - 5)^2\n",
    "C = 1\n",
    "terms = [Kinetic(),                         # -½Δ (Kinetic energy operator in quantum physics)\n",
    "         ExternalFromReal(r -> V(r[1])),\n",
    "         LocalNonlinearity(ρ -> 2C * ρ^2),  # 2 * |ψ|^2\n",
    "]\n",
    "model = Model(lattice; n_electrons=1, terms=terms,\n",
    "              spin_polarization=:spinless)  # use \"spinless electrons\"\n",
    "\n",
    "# Discretise problem in a plane-wave basis\n",
    "basis = PlaneWaveBasis(model; Ecut=500, kgrid=(1, 1, 1))"
   ]
  },
  {
   "cell_type": "code",
   "execution_count": null,
   "id": "municipal-teens",
   "metadata": {},
   "outputs": [],
   "source": [
    "# Solve it using a constrained preconditioned LBFGS:\n",
    "scfres = direct_minimization(basis, tol=1e-8);"
   ]
  },
  {
   "cell_type": "code",
   "execution_count": null,
   "id": "continuing-lying",
   "metadata": {},
   "outputs": [],
   "source": [
    "# Plot the resulting particle density |ψ|^2\n",
    "x = 10vec(first.(DFTK.r_vectors(basis)))\n",
    "plot(x, scfres.ρ[:, 1, 1], label=\"ρ\")\n",
    "plot!(x, V.(x) / 10, label=\"V\")"
   ]
  },
  {
   "cell_type": "markdown",
   "id": "85b64f86",
   "metadata": {},
   "source": [
    "##### More details\n",
    "- https://dftk.org\n",
    "- https://docs.dftk.org"
   ]
  }
 ],
 "metadata": {
  "@webio": {
   "lastCommId": null,
   "lastKernelId": null
  },
  "kernelspec": {
   "display_name": "Julia 1.7.2",
   "language": "julia",
   "name": "julia-1.7"
  },
  "language_info": {
   "file_extension": ".jl",
   "mimetype": "application/julia",
   "name": "julia",
   "version": "1.7.2"
  }
 },
 "nbformat": 4,
 "nbformat_minor": 5
}
